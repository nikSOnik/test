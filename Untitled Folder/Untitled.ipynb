{
 "cells": [
  {
   "cell_type": "code",
   "execution_count": 6,
   "metadata": {
    "scrolled": true
   },
   "outputs": [
    {
     "name": "stderr",
     "output_type": "stream",
     "text": [
      "C:\\Users\\lovem\\Anaconda3\\lib\\site-packages\\wheel\\pep425tags.py:77: RuntimeWarning: Config variable 'Py_DEBUG' is unset, Python ABI tag may be incorrect\n",
      "  warn=(impl == 'cp')):\n",
      "C:\\Users\\lovem\\Anaconda3\\lib\\site-packages\\wheel\\pep425tags.py:81: RuntimeWarning: Config variable 'WITH_PYMALLOC' is unset, Python ABI tag may be incorrect\n",
      "  warn=(impl == 'cp')):\n"
     ]
    },
    {
     "name": "stdout",
     "output_type": "stream",
     "text": [
      "Requirement already satisfied: torchvision in c:\\users\\lovem\\anaconda3\\lib\\site-packages\n",
      "Requirement already satisfied: six in c:\\users\\lovem\\anaconda3\\lib\\site-packages (from torchvision)\n",
      "Requirement already satisfied: pillow>=4.1.1 in c:\\users\\lovem\\anaconda3\\lib\\site-packages (from torchvision)\n",
      "Requirement already satisfied: torch in c:\\users\\lovem\\anaconda3\\lib\\site-packages (from torchvision)\n",
      "Requirement already satisfied: numpy in c:\\users\\lovem\\anaconda3\\lib\\site-packages (from torchvision)\n",
      "Requirement already satisfied: olefile in c:\\users\\lovem\\anaconda3\\lib\\site-packages (from pillow>=4.1.1->torchvision)\n",
      "Requirement already satisfied: pyyaml in c:\\users\\lovem\\anaconda3\\lib\\site-packages (from torch->torchvision)\n"
     ]
    }
   ],
   "source": [
    "from os import path\n",
    "from wheel.pep425tags import get_abbr_impl, get_impl_ver, get_abi_tag\n",
    "platform = '{}{}-{}'.format(get_abbr_impl(), get_impl_ver(), get_abi_tag())\n",
    "\n",
    "accelerator = 'cu80' if path.exists('/opt/bin/nvidia-smi') else 'cpu'\n",
    "\n",
    "!pip install torchvision\n",
    "import torch\n"
   ]
  },
  {
   "cell_type": "code",
   "execution_count": 11,
   "metadata": {},
   "outputs": [
    {
     "name": "stdout",
     "output_type": "stream",
     "text": [
      "Requirement already satisfied: Pillow==4.0.0 in c:\\users\\lovem\\anaconda3\\lib\\site-packages\n",
      "Requirement already satisfied: olefile in c:\\users\\lovem\\anaconda3\\lib\\site-packages (from Pillow==4.0.0)\n",
      "Collecting PIL\n"
     ]
    },
    {
     "name": "stderr",
     "output_type": "stream",
     "text": [
      "  Could not find a version that satisfies the requirement PIL (from versions: )\n",
      "No matching distribution found for PIL\n"
     ]
    },
    {
     "name": "stdout",
     "output_type": "stream",
     "text": [
      "Requirement already satisfied: image in c:\\users\\lovem\\anaconda3\\lib\\site-packages\n",
      "Requirement already satisfied: pillow in c:\\users\\lovem\\anaconda3\\lib\\site-packages (from image)\n",
      "Requirement already satisfied: django in c:\\users\\lovem\\anaconda3\\lib\\site-packages (from image)\n",
      "Requirement already satisfied: olefile in c:\\users\\lovem\\anaconda3\\lib\\site-packages (from pillow->image)\n",
      "Requirement already satisfied: pytz in c:\\users\\lovem\\anaconda3\\lib\\site-packages (from django->image)\n"
     ]
    }
   ],
   "source": [
    "!pip install Pillow==4.0.0\n",
    "!pip install PIL\n",
    "!pip install image"
   ]
  },
  {
   "cell_type": "code",
   "execution_count": 14,
   "metadata": {
    "collapsed": true
   },
   "outputs": [],
   "source": [
    "from IPython.display import set_matplotlib_formats\n",
    "set_matplotlib_formats('retina')"
   ]
  },
  {
   "cell_type": "code",
   "execution_count": 15,
   "metadata": {
    "collapsed": true
   },
   "outputs": [],
   "source": [
    "import numpy as np\n",
    "import matplotlib.pyplot as plt\n",
    "from pylab import rcParams\n",
    "import seaborn as sns\n",
    "import pandas as pd\n",
    "\n",
    "import torch\n",
    "import torch.nn as nn\n",
    "import torch.nn.functional as F\n",
    "import torch.utils.data.dataloader as dataloader\n",
    "import torch.optim as optim\n",
    "\n",
    "from torch.autograd import Variable\n",
    "from torchvision import transforms\n",
    "from torchvision.datasets import MNIST\n",
    "\n",
    "from sklearn import metrics"
   ]
  },
  {
   "cell_type": "code",
   "execution_count": 16,
   "metadata": {
    "collapsed": true
   },
   "outputs": [],
   "source": [
    "RANDOM_SEED = 42\n",
    "\n",
    "np.random.seed(RANDOM_SEED)\n",
    "torch.manual_seed(RANDOM_SEED)\n",
    "torch.cuda.manual_seed_all(RANDOM_SEED)\n",
    "\n",
    "EPOCHS_TO_TRAIN = 10"
   ]
  },
  {
   "cell_type": "code",
   "execution_count": 17,
   "metadata": {
    "collapsed": true
   },
   "outputs": [],
   "source": [
    "%matplotlib inline\n",
    "%config InlineBackend.figure_format = 'retina'\n",
    "\n",
    "sns.set(style='whitegrid', palette='muted', font_scale=1.5)\n",
    "\n",
    "rcParams['figure.figsize'] = 12, 8"
   ]
  },
  {
   "cell_type": "code",
   "execution_count": 19,
   "metadata": {},
   "outputs": [
    {
     "name": "stderr",
     "output_type": "stream",
     "text": [
      "Подпапка или файл data уже существует.\n"
     ]
    }
   ],
   "source": [
    "!mkdir data"
   ]
  }
 ],
 "metadata": {
  "kernelspec": {
   "display_name": "Python 3",
   "language": "python",
   "name": "python3"
  },
  "language_info": {
   "codemirror_mode": {
    "name": "ipython",
    "version": 3
   },
   "file_extension": ".py",
   "mimetype": "text/x-python",
   "name": "python",
   "nbconvert_exporter": "python",
   "pygments_lexer": "ipython3",
   "version": "3.6.3"
  }
 },
 "nbformat": 4,
 "nbformat_minor": 2
}
